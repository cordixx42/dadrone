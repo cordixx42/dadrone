{
 "cells": [
  {
   "cell_type": "code",
   "execution_count": 1,
   "metadata": {},
   "outputs": [
    {
     "ename": "ImportError",
     "evalue": "cannot import name 'Aer' from 'qiskit' (c:\\Users\\jonat\\New folder\\New folder (2)\\hw2\\.venv\\Lib\\site-packages\\qiskit\\__init__.py)",
     "output_type": "error",
     "traceback": [
      "\u001b[1;31m---------------------------------------------------------------------------\u001b[0m",
      "\u001b[1;31mImportError\u001b[0m                               Traceback (most recent call last)",
      "Cell \u001b[1;32mIn[1], line 3\u001b[0m\n\u001b[0;32m      1\u001b[0m \u001b[38;5;28;01mimport\u001b[39;00m \u001b[38;5;21;01mqiskit\u001b[39;00m\n\u001b[0;32m      2\u001b[0m \u001b[38;5;28;01mimport\u001b[39;00m \u001b[38;5;21;01mrandom\u001b[39;00m\n\u001b[1;32m----> 3\u001b[0m \u001b[38;5;28;01mfrom\u001b[39;00m \u001b[38;5;21;01mqiskit\u001b[39;00m \u001b[38;5;28;01mimport\u001b[39;00m Aer, transpile, assemble\n\u001b[0;32m      4\u001b[0m \u001b[38;5;28;01mfrom\u001b[39;00m \u001b[38;5;21;01mqiskit\u001b[39;00m\u001b[38;5;21;01m.\u001b[39;00m\u001b[38;5;21;01mvisualization\u001b[39;00m \u001b[38;5;28;01mimport\u001b[39;00m plot_histogram\n\u001b[0;32m      5\u001b[0m \u001b[38;5;28;01mfrom\u001b[39;00m \u001b[38;5;21;01mCrypto\u001b[39;00m\u001b[38;5;21;01m.\u001b[39;00m\u001b[38;5;21;01mCipher\u001b[39;00m \u001b[38;5;28;01mimport\u001b[39;00m AES\n",
      "\u001b[1;31mImportError\u001b[0m: cannot import name 'Aer' from 'qiskit' (c:\\Users\\jonat\\New folder\\New folder (2)\\hw2\\.venv\\Lib\\site-packages\\qiskit\\__init__.py)"
     ]
    }
   ],
   "source": [
    "import qiskit\n",
    "import random\n",
    "from qiskit import Aer, transpile, assemble\n",
    "from qiskit.visualization import plot_histogram\n",
    "from Crypto.Cipher import AES\n",
    "from Crypto.Random import get_random_bytes"
   ]
  },
  {
   "cell_type": "code",
   "execution_count": null,
   "metadata": {},
   "outputs": [],
   "source": [
    "\n",
    "# Step 1: Generate a QKD key (using BB84 as an example)\n",
    "def generate_qkd_key():\n",
    "    n = 8  # Length of the key in bits\n",
    "    alice_bits = [random.randint(0, 1) for _ in range(n)]  # Alice's random bits\n",
    "    alice_qubits = []\n",
    "\n",
    "    # Alice prepares qubits in random basis states based on her bits\n",
    "    for bit in alice_bits:\n",
    "        qc = qiskit.QuantumCircuit(1, 1)\n",
    "        if bit == 1:\n",
    "            qc.x(0)  # |1> state if bit is 1\n",
    "        alice_qubits.append(qc)\n",
    "\n",
    "    return alice_bits, alice_qubits"
   ]
  },
  {
   "cell_type": "code",
   "execution_count": null,
   "metadata": {},
   "outputs": [],
   "source": [
    "# Step 2: Encrypt data using AES with the shared key\n",
    "def aes_encrypt(plaintext, key):\n",
    "    cipher = AES.new(key, AES.MODE_EAX)\n",
    "    ciphertext, tag = cipher.encrypt_and_digest(plaintext.encode())\n",
    "    return cipher.nonce + tag + ciphertext  # Including nonce and tag for decryption\n"
   ]
  },
  {
   "cell_type": "code",
   "execution_count": null,
   "metadata": {},
   "outputs": [],
   "source": [
    "def aes_decrypt(ciphertext, key):\n",
    "    nonce, tag, ciphertext = ciphertext[:16], ciphertext[16:32], ciphertext[32:]\n",
    "    cipher = AES.new(key, AES.MODE_EAX, nonce=nonce)\n",
    "    return cipher.decrypt_and_verify(ciphertext, tag).decode()"
   ]
  },
  {
   "cell_type": "code",
   "execution_count": null,
   "metadata": {},
   "outputs": [],
   "source": [
    "# Step 4: Main Execution\n",
    "# Generate QKD key (for simplicity, using random bits here)\n",
    "alice_bits, alice_qubits = generate_qkd_key()\n",
    "\n",
    "# Use the QKD key as a shared secret for AES encryption (make sure it’s 16 bytes)\n",
    "# Here we're using the first 16 bits of the key as the AES key\n",
    "aes_key = bytes([random.randint(0, 255) for _ in range(16)])\n",
    "\n",
    "# Sample plaintext to encrypt\n",
    "plaintext = \"This is a secure thermal camera feed\"\n",
    "\n",
    "# Encrypt and decrypt the message using AES\n",
    "ciphertext = aes_encrypt(plaintext, aes_key)\n",
    "decrypted_message = aes_decrypt(ciphertext, aes_key)\n",
    "\n",
    "# Output the results\n",
    "print(\"Original message:\", plaintext)\n",
    "print(\"Ciphertext (in bytes):\", ciphertext)\n",
    "print(\"Decrypted message:\", decrypted_message)"
   ]
  }
 ],
 "metadata": {
  "kernelspec": {
   "display_name": ".venv",
   "language": "python",
   "name": "python3"
  },
  "language_info": {
   "codemirror_mode": {
    "name": "ipython",
    "version": 3
   },
   "file_extension": ".py",
   "mimetype": "text/x-python",
   "name": "python",
   "nbconvert_exporter": "python",
   "pygments_lexer": "ipython3",
   "version": "3.11.9"
  }
 },
 "nbformat": 4,
 "nbformat_minor": 2
}
